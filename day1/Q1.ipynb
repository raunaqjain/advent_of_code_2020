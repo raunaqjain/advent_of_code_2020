{
 "cells": [
  {
   "cell_type": "code",
   "execution_count": 3,
   "metadata": {},
   "outputs": [],
   "source": [
    "with open('q1.txt') as f:\n",
    "    data = f.read().split()"
   ]
  },
  {
   "cell_type": "code",
   "execution_count": 5,
   "metadata": {},
   "outputs": [],
   "source": [
    "data = list(map(int, data))"
   ]
  },
  {
   "cell_type": "code",
   "execution_count": 11,
   "metadata": {},
   "outputs": [
    {
     "name": "stdout",
     "output_type": "stream",
     "text": [
      "196 1824\n"
     ]
    }
   ],
   "source": [
    "two_sum = dict()\n",
    "for val in data:\n",
    "#     print(val, 2020-val)\n",
    "    if 2020 - val not in two_sum:\n",
    "        two_sum[val] = 2020-val\n",
    "    else:\n",
    "        print (val, 2020 - val)"
   ]
  },
  {
   "cell_type": "code",
   "execution_count": 12,
   "metadata": {},
   "outputs": [
    {
     "data": {
      "text/plain": [
       "357504"
      ]
     },
     "execution_count": 12,
     "metadata": {},
     "output_type": "execute_result"
    }
   ],
   "source": [
    "1824*196"
   ]
  },
  {
   "cell_type": "code",
   "execution_count": 17,
   "metadata": {},
   "outputs": [
    {
     "name": "stdout",
     "output_type": "stream",
     "text": [
      "[[14, 694, 1312]]\n"
     ]
    }
   ],
   "source": [
    "ans = []\n",
    "nums = data\n",
    "nums = sorted(nums)\n",
    "# print (nums)\n",
    "for i in range(len(nums) - 2):\n",
    "    if nums[i] > 2020: break\n",
    "    if i > 0 and nums[i] == nums[i-1]: continue\n",
    "\n",
    "    l = i + 1\n",
    "    r = len(nums) -1 \n",
    "    while l < r:\n",
    "        total = nums[i] + nums[l] + nums[r]\n",
    "        if total < 2020:\n",
    "            l += 1\n",
    "        elif total > 2020:\n",
    "            r -= 1\n",
    "        else:\n",
    "            ans.append([nums[i], nums[l], nums[r]])\n",
    "            while l < r and nums[l] == nums[l+1]:\n",
    "                l += 1\n",
    "            while l < r and nums[r] == nums[r-1]:\n",
    "                r -= 1\n",
    "            l += 1\n",
    "            r -= 1\n",
    "\n",
    "\n",
    "print(ans)"
   ]
  },
  {
   "cell_type": "code",
   "execution_count": 18,
   "metadata": {},
   "outputs": [
    {
     "data": {
      "text/plain": [
       "12747392"
      ]
     },
     "execution_count": 18,
     "metadata": {},
     "output_type": "execute_result"
    }
   ],
   "source": [
    "14*694*1312"
   ]
  },
  {
   "cell_type": "code",
   "execution_count": null,
   "metadata": {},
   "outputs": [],
   "source": []
  }
 ],
 "metadata": {
  "kernelspec": {
   "display_name": "venv",
   "language": "python",
   "name": "venv"
  },
  "language_info": {
   "codemirror_mode": {
    "name": "ipython",
    "version": 3
   },
   "file_extension": ".py",
   "mimetype": "text/x-python",
   "name": "python",
   "nbconvert_exporter": "python",
   "pygments_lexer": "ipython3",
   "version": "3.8.5"
  }
 },
 "nbformat": 4,
 "nbformat_minor": 4
}
